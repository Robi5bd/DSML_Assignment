{
 "cells": [
  {
   "cell_type": "markdown",
   "id": "5bb211ad-e28a-4667-9852-7a7ecdcdb84a",
   "metadata": {},
   "source": [
    "# Assignment-4: Md. Rabiul Islam"
   ]
  },
  {
   "cell_type": "code",
   "execution_count": 5,
   "id": "0f4a564e-43cb-4439-8586-8220279d3f9d",
   "metadata": {},
   "outputs": [],
   "source": [
    "import numpy as np"
   ]
  },
  {
   "cell_type": "code",
   "execution_count": 6,
   "id": "0826cc39-3226-4c23-a0ca-433fac192668",
   "metadata": {},
   "outputs": [],
   "source": [
    "#Assignment Data\n",
    "weight=np.array([2,4,5,3,6,5,7])\n",
    "price=np.array([35,60,30,50,50,55,60])"
   ]
  },
  {
   "cell_type": "code",
   "execution_count": 7,
   "id": "7bb1ffa3-bac2-4f5c-98b8-ce174d476eae",
   "metadata": {},
   "outputs": [
    {
     "data": {
      "text/plain": [
       "array([2, 4, 5, 3, 6, 5, 7])"
      ]
     },
     "execution_count": 7,
     "metadata": {},
     "output_type": "execute_result"
    }
   ],
   "source": [
    "weight"
   ]
  },
  {
   "cell_type": "code",
   "execution_count": 8,
   "id": "1be91ee8-84a9-4ece-8f66-ec38c90e2dd1",
   "metadata": {},
   "outputs": [
    {
     "data": {
      "text/plain": [
       "array([35, 60, 30, 50, 50, 55, 60])"
      ]
     },
     "execution_count": 8,
     "metadata": {},
     "output_type": "execute_result"
    }
   ],
   "source": [
    "price"
   ]
  },
  {
   "cell_type": "markdown",
   "id": "fe896459-f382-4974-9252-0e35aeeeb7e1",
   "metadata": {},
   "source": [
    "### Task 01: Manually compute the slope (M) and y-intercept (C) using Ordinary Least Squares Linear Regression"
   ]
  },
  {
   "cell_type": "code",
   "execution_count": 14,
   "id": "b001918f-3d3e-45e5-9fbe-374d1cc178dc",
   "metadata": {},
   "outputs": [],
   "source": [
    "##Mean Calculation\n",
    "mean_weight=np.mean(weight)\n",
    "mean_price=np.mean(price)"
   ]
  },
  {
   "cell_type": "code",
   "execution_count": 13,
   "id": "ed672777-9846-4c24-b664-b0592a6154d1",
   "metadata": {},
   "outputs": [
    {
     "data": {
      "text/plain": [
       "4.571428571428571"
      ]
     },
     "execution_count": 13,
     "metadata": {},
     "output_type": "execute_result"
    }
   ],
   "source": [
    "mean_weight"
   ]
  },
  {
   "cell_type": "code",
   "execution_count": 15,
   "id": "362c8c2f-668d-45c1-99ef-c1090316591e",
   "metadata": {},
   "outputs": [
    {
     "data": {
      "text/plain": [
       "48.57142857142857"
      ]
     },
     "execution_count": 15,
     "metadata": {},
     "output_type": "execute_result"
    }
   ],
   "source": [
    "mean_price"
   ]
  },
  {
   "cell_type": "markdown",
   "id": "3a805274-2eb3-4928-a96d-53388ea55b4c",
   "metadata": {},
   "source": [
    "#Difference Calculation"
   ]
  },
  {
   "cell_type": "code",
   "execution_count": 16,
   "id": "ad561518-c550-4cbc-acb7-fe9f50d29919",
   "metadata": {},
   "outputs": [
    {
     "name": "stdout",
     "output_type": "stream",
     "text": [
      "[-2.57142857 -0.57142857  0.42857143 -1.57142857  1.42857143  0.42857143\n",
      "  2.42857143]\n"
     ]
    }
   ],
   "source": [
    "diff_weight=weight-mean_weight\n",
    "print(diff_weight)"
   ]
  },
  {
   "cell_type": "code",
   "execution_count": 17,
   "id": "b02d09a3-f78b-4a38-a583-d6a90057d886",
   "metadata": {},
   "outputs": [
    {
     "name": "stdout",
     "output_type": "stream",
     "text": [
      "[-13.57142857  11.42857143 -18.57142857   1.42857143   1.42857143\n",
      "   6.42857143  11.42857143]\n"
     ]
    }
   ],
   "source": [
    "diff_price=price-mean_price\n",
    "print(diff_price)"
   ]
  },
  {
   "cell_type": "markdown",
   "id": "315fd333-f2d5-439b-ae73-454b437bbb97",
   "metadata": {},
   "source": [
    "#Slop&Intercept_calculation"
   ]
  },
  {
   "cell_type": "code",
   "execution_count": 19,
   "id": "be2d3269-3668-449a-a132-4f0aca228b5d",
   "metadata": {},
   "outputs": [
    {
     "name": "stdout",
     "output_type": "stream",
     "text": [
      "2.862903225806452\n"
     ]
    }
   ],
   "source": [
    "#slope\n",
    "m = np.sum(diff_weight * diff_price) / np.sum(diff_weight**2)\n",
    "print(slope_m)"
   ]
  },
  {
   "cell_type": "code",
   "execution_count": 20,
   "id": "8d249dd0-d6f0-4fcd-b867-7e8bd8cde119",
   "metadata": {},
   "outputs": [
    {
     "name": "stdout",
     "output_type": "stream",
     "text": [
      "35.483870967741936\n"
     ]
    }
   ],
   "source": [
    "#intercept\n",
    "c = mean_price - m*mean_weight\n",
    "print(c)"
   ]
  },
  {
   "cell_type": "markdown",
   "id": "bbfc8f83-56d9-4aa5-8b5d-5a880e08ba5d",
   "metadata": {},
   "source": [
    "#Predict_price\n",
    "Prediction_y = m * (input_X) + c"
   ]
  },
  {
   "cell_type": "code",
   "execution_count": null,
   "id": "f9249190-e608-48c8-9b86-de0d7a384d62",
   "metadata": {},
   "outputs": [],
   "source": [
    "def predict_price(weight):\n",
    "    return slope_m * weight + c"
   ]
  },
  {
   "cell_type": "code",
   "execution_count": 33,
   "id": "098c912b-db7d-41af-af21-2fd00b09d0c4",
   "metadata": {},
   "outputs": [
    {
     "name": "stdout",
     "output_type": "stream",
     "text": [
      "vegetbale weight price: 64.11290322580646\n"
     ]
    }
   ],
   "source": [
    "predicted_price = predict_price(10)\n",
    "print(f\"vegetbale weight price: {predicted_price}\")"
   ]
  },
  {
   "cell_type": "markdown",
   "id": "5655a25e-f103-48da-868b-dbd0d1b4c62d",
   "metadata": {},
   "source": [
    "### Task 02:Compute the residuals for each data point."
   ]
  },
  {
   "cell_type": "code",
   "execution_count": 25,
   "id": "13aabd2a-f054-4023-94e0-cd4666383910",
   "metadata": {},
   "outputs": [
    {
     "name": "stdout",
     "output_type": "stream",
     "text": [
      "[41.20967742 46.93548387 49.7983871  44.07258065 52.66129032 49.7983871\n",
      " 55.52419355]\n"
     ]
    }
   ],
   "source": [
    "predicted_price=m*weight+c\n",
    "print(predicted_price)"
   ]
  },
  {
   "cell_type": "code",
   "execution_count": 34,
   "id": "d1a6bdeb-7f28-44f8-b135-f1c9cbf411b9",
   "metadata": {},
   "outputs": [],
   "source": [
    "residuals = price - predicted_price"
   ]
  },
  {
   "cell_type": "code",
   "execution_count": 27,
   "id": "9d15ef8a-9154-4fbc-ab4e-264464ad8782",
   "metadata": {},
   "outputs": [
    {
     "data": {
      "text/plain": [
       "array([ -6.20967742,  13.06451613, -19.7983871 ,   5.92741935,\n",
       "        -2.66129032,   5.2016129 ,   4.47580645])"
      ]
     },
     "execution_count": 27,
     "metadata": {},
     "output_type": "execute_result"
    }
   ],
   "source": [
    "residuals"
   ]
  },
  {
   "cell_type": "markdown",
   "id": "d7a55eae-6b4f-480e-9ff6-2dc842d2b389",
   "metadata": {},
   "source": [
    "### Task 03: Calculate both the Mean Squared Error (MSE) and Mean Absolute Error (MAE)"
   ]
  },
  {
   "cell_type": "code",
   "execution_count": 28,
   "id": "b588c31d-784d-4dc5-8350-291cb4ab5693",
   "metadata": {},
   "outputs": [],
   "source": [
    "mse = np.mean(residuals**2)\n",
    "mae = np.mean(np.abs(residuals))"
   ]
  },
  {
   "cell_type": "code",
   "execution_count": 35,
   "id": "320670d7-fe67-4cfc-a419-573141001ae9",
   "metadata": {},
   "outputs": [
    {
     "data": {
      "text/plain": [
       "98.64631336405525"
      ]
     },
     "execution_count": 35,
     "metadata": {},
     "output_type": "execute_result"
    }
   ],
   "source": [
    "mse"
   ]
  },
  {
   "cell_type": "code",
   "execution_count": 36,
   "id": "2334bf84-7e3f-4e79-b69b-7c54926f054b",
   "metadata": {},
   "outputs": [
    {
     "data": {
      "text/plain": [
       "8.191244239631335"
      ]
     },
     "execution_count": 36,
     "metadata": {},
     "output_type": "execute_result"
    }
   ],
   "source": [
    "mae"
   ]
  },
  {
   "cell_type": "markdown",
   "id": "3fe98d24-0384-4e88-86ce-c75b5faa3420",
   "metadata": {},
   "source": [
    "### Final Task: Generate an Excel file for the given dataset. Utilize Python for all the calculations."
   ]
  },
  {
   "cell_type": "code",
   "execution_count": 42,
   "id": "bd5f1cdb-d1ce-4ae6-97ba-595e413ad9ea",
   "metadata": {},
   "outputs": [],
   "source": [
    "import pandas as pd"
   ]
  },
  {
   "cell_type": "code",
   "execution_count": 43,
   "id": "7a42831d-e637-4115-b1cf-14a2605ecf43",
   "metadata": {},
   "outputs": [],
   "source": [
    "#DataFrame\n",
    "data = {\n",
    "    'Weight': weight,\n",
    "    'Actual Price': price,\n",
    "    'Predicted Price': predicted_price,\n",
    "    'Residual': residuals\n",
    "}\n",
    "\n",
    "df = pd.DataFrame(data)"
   ]
  },
  {
   "cell_type": "code",
   "execution_count": 41,
   "id": "43860a32-e94b-4f32-b7aa-207996260fde",
   "metadata": {},
   "outputs": [
    {
     "name": "stdout",
     "output_type": "stream",
     "text": [
      "Requirement already satisfied: pandas in c:\\users\\cbsg\\anaconda3\\lib\\site-packages (2.0.3)\n",
      "Requirement already satisfied: openpyxl in c:\\users\\cbsg\\anaconda3\\lib\\site-packages (3.0.10)\n",
      "Requirement already satisfied: python-dateutil>=2.8.2 in c:\\users\\cbsg\\anaconda3\\lib\\site-packages (from pandas) (2.8.2)\n",
      "Requirement already satisfied: pytz>=2020.1 in c:\\users\\cbsg\\anaconda3\\lib\\site-packages (from pandas) (2023.3.post1)\n",
      "Requirement already satisfied: tzdata>=2022.1 in c:\\users\\cbsg\\anaconda3\\lib\\site-packages (from pandas) (2023.3)\n",
      "Requirement already satisfied: numpy>=1.21.0 in c:\\users\\cbsg\\anaconda3\\lib\\site-packages (from pandas) (1.24.3)\n",
      "Requirement already satisfied: et_xmlfile in c:\\users\\cbsg\\anaconda3\\lib\\site-packages (from openpyxl) (1.1.0)\n",
      "Requirement already satisfied: six>=1.5 in c:\\users\\cbsg\\anaconda3\\lib\\site-packages (from python-dateutil>=2.8.2->pandas) (1.16.0)\n",
      "Note: you may need to restart the kernel to use updated packages.\n"
     ]
    }
   ],
   "source": [
    "pip install pandas openpyxl"
   ]
  },
  {
   "cell_type": "code",
   "execution_count": 44,
   "id": "8c439714-b78a-47b2-88e1-2518d065ae47",
   "metadata": {},
   "outputs": [],
   "source": [
    "from openpyxl import Workbook"
   ]
  },
  {
   "cell_type": "code",
   "execution_count": 45,
   "id": "ea5e2e10-94a8-4033-8875-2d3a42a12b42",
   "metadata": {},
   "outputs": [],
   "source": [
    "with pd.ExcelWriter('Linear_Regression_Results.xlsx', engine='openpyxl') as writer:\n",
    "    df.to_excel(writer, sheet_name='Rabiul_Assignment_4', index=False)"
   ]
  },
  {
   "cell_type": "markdown",
   "id": "6f9c5350",
   "metadata": {},
   "source": [
    "##### Generated file in excel successfully  :  Assignmnet-4 submitted by Md. Rabiul Islam####"
   ]
  }
 ],
 "metadata": {
  "kernelspec": {
   "display_name": "Python 3 (ipykernel)",
   "language": "python",
   "name": "python3"
  },
  "language_info": {
   "codemirror_mode": {
    "name": "ipython",
    "version": 3
   },
   "file_extension": ".py",
   "mimetype": "text/x-python",
   "name": "python",
   "nbconvert_exporter": "python",
   "pygments_lexer": "ipython3",
   "version": "3.11.5"
  },
  "widgets": {
   "application/vnd.jupyter.widget-state+json": {
    "state": {},
    "version_major": 2,
    "version_minor": 0
   }
  }
 },
 "nbformat": 4,
 "nbformat_minor": 5
}
